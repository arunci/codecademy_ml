{
 "cells": [
  {
   "cell_type": "markdown",
   "metadata": {},
   "source": [
    "# Chocolate Scraping with Beautiful Soup"
   ]
  },
  {
   "cell_type": "markdown",
   "metadata": {},
   "source": [
    "After eating chocolate bars your whole life, you've decided to go on a quest to find the greatest chocolate bar in the world.\n",
    "\n",
    "You've found a website that has over 1700 reviews of chocolate bars from all around the world. It's linked below the text for the first task.\n",
    "\n",
    "The data is displayed in a table, instead of in a `csv` or `json`. Thankfully, we have the power of BeautifulSoup that will help us transform this webpage into a DataFrame that we can manipulate and analyze.\n",
    "\n",
    "The rating scale is from 1-5, as described in <a href=\"http://flavorsofcacao.com/review_guide.html\">this review guide</a>. A `1` is \"unpleasant\" chocolate, while a `5` is a bar that transcends \"beyond the ordinary limits\".\n",
    "\n",
    "Some questions we thought about when we found this dataset were:\n",
    " - Where are the best cocao beans grown?\n",
    " - Which countries produce the highest-rated bars?\n",
    " - What's the relationship between cocao solids percentage and rating?\n",
    " \n",
    "Can we find a way to answer these questions, or uncover more questions, using BeautifulSoup and Pandas?"
   ]
  },
  {
   "cell_type": "markdown",
   "metadata": {},
   "source": [
    "## Make Some Chocolate Soup"
   ]
  },
  {
   "cell_type": "markdown",
   "metadata": {},
   "source": [
    "1. Explore the webpage displayed in the browser. What elements could be useful to scrape here? Which elements do we _not_ want to scrape?"
   ]
  },
  {
   "cell_type": "markdown",
   "metadata": {},
   "source": [
    "https://content.codecademy.com/courses/beautifulsoup/cacao/index.html"
   ]
  },
  {
   "cell_type": "markdown",
   "metadata": {},
   "source": [
    "List of Tags to Include:"
   ]
  },
  {
   "cell_type": "markdown",
   "metadata": {},
   "source": [
    "List of Tags to Exclude:"
   ]
  },
  {
   "cell_type": "markdown",
   "metadata": {},
   "source": [
    "2. Let's make a request to this stie to get the raw HTML, which we can later turn into a BeautifulSoup object.\n",
    "\n",
    "   The URL is\n",
    "\n",
    "```\n",
    "https://content.codecademy.com/courses/beautifulsoup/cacao/index.html\n",
    "```\n",
    "   \n",
    "   You can pass this into the `.get()` method of the `requests` module to get the HTML."
   ]
  },
  {
   "cell_type": "code",
   "execution_count": 1,
   "metadata": {},
   "outputs": [],
   "source": [
    "from bs4 import BeautifulSoup\n",
    "import requests\n",
    "import pandas as pd\n",
    "import matplotlib.pyplot as plt\n",
    "import numpy as np"
   ]
  },
  {
   "cell_type": "markdown",
   "metadata": {},
   "source": [
    "3. Create a BeautifulSoup object called `soup` to traverse this HTML.\n",
    "\n",
    "   Use `\"html.parser\"` as the parser, and the content of the response you got from your request as the document."
   ]
  },
  {
   "cell_type": "code",
   "execution_count": 2,
   "metadata": {},
   "outputs": [],
   "source": [
    "url = \"https://content.codecademy.com/courses/beautifulsoup/cacao/index.html\"\n",
    "webpage_response = requests.get(url)\n",
    "webpage = webpage_response.content"
   ]
  },
  {
   "cell_type": "markdown",
   "metadata": {},
   "source": [
    "4. If you want, print out the `soup` object to explore the HTML.\n",
    "\n",
    "   So many table rows! You're probably very relieved that we don't have to scrape this information by hand."
   ]
  },
  {
   "cell_type": "code",
   "execution_count": 20,
   "metadata": {},
   "outputs": [],
   "source": [
    "soup = BeautifulSoup(webpage, \"html.parser\")\n"
   ]
  },
  {
   "cell_type": "markdown",
   "metadata": {},
   "source": [
    "## How are ratings distributed?"
   ]
  },
  {
   "cell_type": "markdown",
   "metadata": {},
   "source": [
    "5. How many terrible chocolate bars are out there? And how many earned a perfect 5? Let's make a histogram of this data.\n",
    "\n",
    "   The first thing to do is to put all of the ratings into a list.\n",
    "   \n",
    "   Use a command on the `soup` object to get all of the tags that contain the ratings."
   ]
  },
  {
   "cell_type": "code",
   "execution_count": 4,
   "metadata": {},
   "outputs": [],
   "source": [
    "rating_tags = soup.select(\".Rating\")"
   ]
  },
  {
   "cell_type": "markdown",
   "metadata": {},
   "source": [
    "6. Create an empty list called `ratings` to store all the ratings in."
   ]
  },
  {
   "cell_type": "markdown",
   "metadata": {},
   "source": [
    "7. Loop through the ratings tags and get the text contained in each one. Add it to the ratings list.\n",
    "\n",
    "   As you do this, convert the rating to a float, so that the ratings list will be numerical. This should help with calculations later."
   ]
  },
  {
   "cell_type": "code",
   "execution_count": 5,
   "metadata": {},
   "outputs": [
    {
     "data": {
      "text/plain": [
       "1795"
      ]
     },
     "execution_count": 5,
     "metadata": {},
     "output_type": "execute_result"
    }
   ],
   "source": [
    "ratings = []\n",
    "for td in rating_tags[1:]:\n",
    "    ratings.append(float(td.get_text()))"
   ]
  },
  {
   "cell_type": "markdown",
   "metadata": {},
   "source": [
    "8. Using Matplotlib, create a histogram of the ratings values:\n",
    "\n",
    "```py\n",
    "plt.hist(ratings)\n",
    "```\n",
    "\n",
    "   Remember to show the plot using `plt.show()`!"
   ]
  },
  {
   "cell_type": "code",
   "execution_count": 6,
   "metadata": {},
   "outputs": [
    {
     "data": {
      "text/plain": [
       "(array([  4.,  13.,  32., 141., 259., 644., 602.,  98.,   0.,   2.]),\n",
       " array([1. , 1.4, 1.8, 2.2, 2.6, 3. , 3.4, 3.8, 4.2, 4.6, 5. ]),\n",
       " <BarContainer object of 10 artists>)"
      ]
     },
     "execution_count": 6,
     "metadata": {},
     "output_type": "execute_result"
    },
    {
     "data": {
      "image/png": "[encoded data removed]",
      "text/plain": [
       "<Figure size 640x480 with 1 Axes>"
      ]
     },
     "metadata": {},
     "output_type": "display_data"
    }
   ],
   "source": [
    "plt.hist(ratings)"
   ]
  },
  {
   "cell_type": "markdown",
   "metadata": {},
   "source": [
    "## Which chocolatier makes the best chocolate?"
   ]
  },
  {
   "cell_type": "markdown",
   "metadata": {},
   "source": [
    "9. We want to now find the 10 most highly rated chocolatiers. One way to do this is to make a DataFrame that has the chocolate companies in one column, and the ratings in another. Then, we can do a `groupby` to find the ones with the highest average rating.\n",
    "\n",
    "   First, let's find all tags on the webpage that contain the company names."
   ]
  },
  {
   "cell_type": "code",
   "execution_count": 7,
   "metadata": {},
   "outputs": [],
   "source": [
    "company_tags = soup.select(\".Company\")"
   ]
  },
  {
   "cell_type": "markdown",
   "metadata": {},
   "source": [
    "10. Just like we did with ratings, we now want to make an empty list to hold company names."
   ]
  },
  {
   "cell_type": "markdown",
   "metadata": {},
   "source": [
    "11. Loop through the tags containing the company names, and add the text from each tag to the list you just created."
   ]
  },
  {
   "cell_type": "code",
   "execution_count": 8,
   "metadata": {},
   "outputs": [
    {
     "data": {
      "text/plain": [
       "1795"
      ]
     },
     "execution_count": 8,
     "metadata": {},
     "output_type": "execute_result"
    }
   ],
   "source": [
    "companies = []\n",
    "for td in company_tags[1:]:\n",
    "    companies.append(td.get_text())"
   ]
  },
  {
   "cell_type": "markdown",
   "metadata": {},
   "source": [
    "12. Create a DataFrame with a column \"Company\" corresponding to your companies list, and a column \"Ratings\" corresponding to your ratings list."
   ]
  },
  {
   "cell_type": "code",
   "execution_count": 9,
   "metadata": {},
   "outputs": [],
   "source": [
    "my_dict = {\"Company\": companies, \"Rating\": ratings}"
   ]
  },
  {
   "cell_type": "code",
   "execution_count": 10,
   "metadata": {},
   "outputs": [
    {
     "data": {
      "text/html": [
       "<div>\n",
       "<style scoped>\n",
       "    .dataframe tbody tr th:only-of-type {\n",
       "        vertical-align: middle;\n",
       "    }\n",
       "\n",
       "    .dataframe tbody tr th {\n",
       "        vertical-align: top;\n",
       "    }\n",
       "\n",
       "    .dataframe thead th {\n",
       "        text-align: right;\n",
       "    }\n",
       "</style>\n",
       "<table border=\"1\" class=\"dataframe\">\n",
       "  <thead>\n",
       "    <tr style=\"text-align: right;\">\n",
       "      <th></th>\n",
       "      <th>Company</th>\n",
       "      <th>Rating</th>\n",
       "    </tr>\n",
       "  </thead>\n",
       "  <tbody>\n",
       "    <tr>\n",
       "      <th>0</th>\n",
       "      <td>A. Morin</td>\n",
       "      <td>3.75</td>\n",
       "    </tr>\n",
       "    <tr>\n",
       "      <th>1</th>\n",
       "      <td>A. Morin</td>\n",
       "      <td>2.75</td>\n",
       "    </tr>\n",
       "    <tr>\n",
       "      <th>2</th>\n",
       "      <td>A. Morin</td>\n",
       "      <td>3.00</td>\n",
       "    </tr>\n",
       "    <tr>\n",
       "      <th>3</th>\n",
       "      <td>A. Morin</td>\n",
       "      <td>3.50</td>\n",
       "    </tr>\n",
       "    <tr>\n",
       "      <th>4</th>\n",
       "      <td>A. Morin</td>\n",
       "      <td>3.50</td>\n",
       "    </tr>\n",
       "  </tbody>\n",
       "</table>\n",
       "</div>"
      ],
      "text/plain": [
       "    Company  Rating\n",
       "0  A. Morin    3.75\n",
       "1  A. Morin    2.75\n",
       "2  A. Morin    3.00\n",
       "3  A. Morin    3.50\n",
       "4  A. Morin    3.50"
      ]
     },
     "execution_count": 10,
     "metadata": {},
     "output_type": "execute_result"
    }
   ],
   "source": [
    "df = pd.DataFrame.from_dict(my_dict)"
   ]
  },
  {
   "cell_type": "markdown",
   "metadata": {},
   "source": [
    "13. Use `.grouby` to group your DataFrame by Company and take the average of the grouped ratings.\n",
    "\n",
    "    Then, use the `.nlargest` command to get the 10 highest rated chocolate companies. Print them out.\n",
    "    \n",
    "    Look at the hint if you get stuck on this step!"
   ]
  },
  {
   "cell_type": "code",
   "execution_count": 11,
   "metadata": {},
   "outputs": [
    {
     "data": {
      "text/plain": [
       "Company\n",
       "Tobago Estate (Pralus)                  4.000000\n",
       "Heirloom Cacao Preservation (Zokoko)    3.875000\n",
       "Ocelot                                  3.875000\n",
       "Amedei                                  3.846154\n",
       "Matale                                  3.812500\n",
       "Patric                                  3.791667\n",
       "Idilio (Felchlin)                       3.775000\n",
       "Acalli                                  3.750000\n",
       "Chocola'te                              3.750000\n",
       "Christopher Morel (Felchlin)            3.750000\n",
       "Name: Rating, dtype: float64"
      ]
     },
     "execution_count": 11,
     "metadata": {},
     "output_type": "execute_result"
    }
   ],
   "source": [
    "company_rating_df = df.groupby(\"Company\").Rating.mean()\n",
    "ten_best = company_rating_df.nlargest(10)\n",
    "ten_best "
   ]
  },
  {
   "cell_type": "markdown",
   "metadata": {},
   "source": [
    "## Is more cacao better?"
   ]
  },
  {
   "cell_type": "markdown",
   "metadata": {},
   "source": [
    "14. We want to see if the chocolate experts tend to rate chocolate bars with higher levels of cacoa to be better than those with lower levels of cacoa.\n",
    "\n",
    "    It looks like the cocoa percentages are in the table under the Cocoa Percent column (note we are looking at cocoa not cocao!)\n",
    "    \n",
    "    Using the same methods you used in the last couple of tasks, create a list that contains all of the cocoa percentages. Store each percent as a float, after stripping off the `%` character."
   ]
  },
  {
   "cell_type": "code",
   "execution_count": 12,
   "metadata": {},
   "outputs": [
    {
     "name": "stdout",
     "output_type": "stream",
     "text": [
      "1795\n"
     ]
    }
   ],
   "source": [
    "cocoa_percents = []\n",
    "cocoa_percent_tags = soup.select(\".CocoaPercent\")\n",
    "\n",
    "for td in cocoa_percent_tags[1:]:\n",
    "    percent = float(td.get_text().strip('%'))\n",
    "    cocoa_percents.append(percent)\n",
    "print(len(cocoa_percents))"
   ]
  },
  {
   "cell_type": "markdown",
   "metadata": {},
   "source": [
    "15. Add the cocoa percentages as a column called `\"CocoaPercentage\"` in the DataFrame that has companies and ratings in it."
   ]
  },
  {
   "cell_type": "code",
   "execution_count": 13,
   "metadata": {},
   "outputs": [],
   "source": [
    "df[\"CocoaPercentage\"] = cocoa_percents"
   ]
  },
  {
   "cell_type": "code",
   "execution_count": 14,
   "metadata": {},
   "outputs": [
    {
     "data": {
      "text/html": [
       "<div>\n",
       "<style scoped>\n",
       "    .dataframe tbody tr th:only-of-type {\n",
       "        vertical-align: middle;\n",
       "    }\n",
       "\n",
       "    .dataframe tbody tr th {\n",
       "        vertical-align: top;\n",
       "    }\n",
       "\n",
       "    .dataframe thead th {\n",
       "        text-align: right;\n",
       "    }\n",
       "</style>\n",
       "<table border=\"1\" class=\"dataframe\">\n",
       "  <thead>\n",
       "    <tr style=\"text-align: right;\">\n",
       "      <th></th>\n",
       "      <th>Company</th>\n",
       "      <th>Rating</th>\n",
       "      <th>CocoaPercentage</th>\n",
       "    </tr>\n",
       "  </thead>\n",
       "  <tbody>\n",
       "    <tr>\n",
       "      <th>0</th>\n",
       "      <td>A. Morin</td>\n",
       "      <td>3.75</td>\n",
       "      <td>63.0</td>\n",
       "    </tr>\n",
       "    <tr>\n",
       "      <th>1</th>\n",
       "      <td>A. Morin</td>\n",
       "      <td>2.75</td>\n",
       "      <td>70.0</td>\n",
       "    </tr>\n",
       "    <tr>\n",
       "      <th>2</th>\n",
       "      <td>A. Morin</td>\n",
       "      <td>3.00</td>\n",
       "      <td>70.0</td>\n",
       "    </tr>\n",
       "    <tr>\n",
       "      <th>3</th>\n",
       "      <td>A. Morin</td>\n",
       "      <td>3.50</td>\n",
       "      <td>70.0</td>\n",
       "    </tr>\n",
       "    <tr>\n",
       "      <th>4</th>\n",
       "      <td>A. Morin</td>\n",
       "      <td>3.50</td>\n",
       "      <td>70.0</td>\n",
       "    </tr>\n",
       "  </tbody>\n",
       "</table>\n",
       "</div>"
      ],
      "text/plain": [
       "    Company  Rating  CocoaPercentage\n",
       "0  A. Morin    3.75             63.0\n",
       "1  A. Morin    2.75             70.0\n",
       "2  A. Morin    3.00             70.0\n",
       "3  A. Morin    3.50             70.0\n",
       "4  A. Morin    3.50             70.0"
      ]
     },
     "execution_count": 14,
     "metadata": {},
     "output_type": "execute_result"
    }
   ],
   "source": [
    "df.head()"
   ]
  },
  {
   "cell_type": "markdown",
   "metadata": {},
   "source": [
    "16. Make a scatterplot of ratings (`your_df.Rating`) vs percentage of cocoa (`your_df.CocoaPercentage`).\n",
    "\n",
    "    You can do this in Matplotlib with these commands:\n",
    "    \n",
    "```py\n",
    "plt.scatter(df.CocoaPercentage, df.Rating)\n",
    "plt.show()\n",
    "```\n",
    "\n",
    "Call `plt.clf()` to clear the figure between showing your histogram and this scatterplot."
   ]
  },
  {
   "cell_type": "code",
   "execution_count": 15,
   "metadata": {},
   "outputs": [
    {
     "data": {
      "image/png": "[encoded data removed]",
      "text/plain": [
       "<Figure size 640x480 with 1 Axes>"
      ]
     },
     "metadata": {},
     "output_type": "display_data"
    }
   ],
   "source": [
    "plt.scatter(df.CocoaPercentage, df.Rating)\n",
    "plt.show()"
   ]
  },
  {
   "cell_type": "markdown",
   "metadata": {},
   "source": [
    "17. Is there any correlation here? We can use some numpy commands to draw a line of best-fit over the scatterplot.\n",
    "\n",
    "    Copy this code and paste it after you create the scatterplot, but before you call `.show()`:\n",
    "    \n",
    "```py\n",
    "z = np.polyfit(df.CocoaPercentage, df.Rating, 1)\n",
    "line_function = np.poly1d(z)\n",
    "plt.plot(df.CocoaPercentage, line_function(df.CocoaPercentage), \"r-\")\n",
    "```"
   ]
  },
  {
   "cell_type": "code",
   "execution_count": 16,
   "metadata": {},
   "outputs": [
    {
     "data": {
      "image/png": "[encoded data removed]",
      "text/plain": [
       "<Figure size 640x480 with 1 Axes>"
      ]
     },
     "metadata": {},
     "output_type": "display_data"
    }
   ],
   "source": [
    "plt.scatter(df.CocoaPercentage, df.Rating)\n",
    "z = np.polyfit(df.CocoaPercentage, df.Rating, 1)\n",
    "line_function = np.poly1d(z)\n",
    "plt.plot(df.CocoaPercentage, line_function(df.CocoaPercentage), \"r-\")\n",
    "plt.show()"
   ]
  },
  {
   "cell_type": "markdown",
   "metadata": {},
   "source": [
    "## Explore!"
   ]
  },
  {
   "cell_type": "markdown",
   "metadata": {},
   "source": [
    "18. We have explored a couple of the questions about chocolate that inspired us when we looked at this chocolate table.\n",
    "\n",
    "    What other kinds of questions can you answer here? Try to use a combination of BeautifulSoup and Pandas to explore some more.\n",
    "    \n",
    "    For inspiration: Where are the best cocoa beans grown? Which countries produce the highest-rated bars?"
   ]
  },
  {
   "cell_type": "markdown",
   "metadata": {},
   "source": [
    "### Where are the best beans grown"
   ]
  },
  {
   "cell_type": "code",
   "execution_count": 17,
   "metadata": {},
   "outputs": [
    {
     "data": {
      "text/html": [
       "<div>\n",
       "<style scoped>\n",
       "    .dataframe tbody tr th:only-of-type {\n",
       "        vertical-align: middle;\n",
       "    }\n",
       "\n",
       "    .dataframe tbody tr th {\n",
       "        vertical-align: top;\n",
       "    }\n",
       "\n",
       "    .dataframe thead th {\n",
       "        text-align: right;\n",
       "    }\n",
       "</style>\n",
       "<table border=\"1\" class=\"dataframe\">\n",
       "  <thead>\n",
       "    <tr style=\"text-align: right;\">\n",
       "      <th></th>\n",
       "      <th>Company</th>\n",
       "      <th>Rating</th>\n",
       "      <th>CocoaPercentage</th>\n",
       "      <th>BeanOrigins</th>\n",
       "      <th>CompanyLocation</th>\n",
       "    </tr>\n",
       "  </thead>\n",
       "  <tbody>\n",
       "    <tr>\n",
       "      <th>0</th>\n",
       "      <td>A. Morin</td>\n",
       "      <td>3.75</td>\n",
       "      <td>63.0</td>\n",
       "      <td>Sao Tome</td>\n",
       "      <td>France</td>\n",
       "    </tr>\n",
       "    <tr>\n",
       "      <th>1</th>\n",
       "      <td>A. Morin</td>\n",
       "      <td>2.75</td>\n",
       "      <td>70.0</td>\n",
       "      <td>Togo</td>\n",
       "      <td>France</td>\n",
       "    </tr>\n",
       "    <tr>\n",
       "      <th>2</th>\n",
       "      <td>A. Morin</td>\n",
       "      <td>3.00</td>\n",
       "      <td>70.0</td>\n",
       "      <td>Togo</td>\n",
       "      <td>France</td>\n",
       "    </tr>\n",
       "    <tr>\n",
       "      <th>3</th>\n",
       "      <td>A. Morin</td>\n",
       "      <td>3.50</td>\n",
       "      <td>70.0</td>\n",
       "      <td>Togo</td>\n",
       "      <td>France</td>\n",
       "    </tr>\n",
       "    <tr>\n",
       "      <th>4</th>\n",
       "      <td>A. Morin</td>\n",
       "      <td>3.50</td>\n",
       "      <td>70.0</td>\n",
       "      <td>Peru</td>\n",
       "      <td>France</td>\n",
       "    </tr>\n",
       "  </tbody>\n",
       "</table>\n",
       "</div>"
      ],
      "text/plain": [
       "    Company  Rating  CocoaPercentage BeanOrigins CompanyLocation\n",
       "0  A. Morin    3.75             63.0    Sao Tome          France\n",
       "1  A. Morin    2.75             70.0        Togo          France\n",
       "2  A. Morin    3.00             70.0        Togo          France\n",
       "3  A. Morin    3.50             70.0        Togo          France\n",
       "4  A. Morin    3.50             70.0        Peru          France"
      ]
     },
     "execution_count": 17,
     "metadata": {},
     "output_type": "execute_result"
    }
   ],
   "source": [
    "bean_origin_tags = soup.select(\".BroadBeanOrigin\")\n",
    "company_location_tags = soup.select(\".CompanyLocation\")\n",
    "bean_origins = []\n",
    "company_locations = []\n",
    "\n",
    "for td in bean_origin_tags[1:]:\n",
    "    bean_origins.append(td.get_text())\n",
    "\n",
    "for td in company_location_tags[1:]:\n",
    "    company_locations.append(td.get_text())\n",
    "df[\"BeanOrigins\"] = bean_origins\n",
    "df[\"CompanyLocation\"] = company_locations\n",
    "df.head()\n"
   ]
  },
  {
   "cell_type": "markdown",
   "metadata": {},
   "source": [
    "### Where are the best bars made"
   ]
  },
  {
   "cell_type": "code",
   "execution_count": 18,
   "metadata": {},
   "outputs": [
    {
     "data": {
      "text/plain": [
       "BeanOrigins\n",
       "Dom. Rep., Madagascar           4.00\n",
       "Gre., PNG, Haw., Haiti, Mad     4.00\n",
       "Guat., D.R., Peru, Mad., PNG    4.00\n",
       "Peru, Dom. Rep                  4.00\n",
       "Ven, Bolivia, D.R.              4.00\n",
       "Venezuela, Java                 4.00\n",
       "DR, Ecuador, Peru               3.75\n",
       "Dominican Rep., Bali            3.75\n",
       "PNG, Vanuatu, Mad               3.75\n",
       "Peru, Belize                    3.75\n",
       "Name: Rating, dtype: float64"
      ]
     },
     "execution_count": 18,
     "metadata": {},
     "output_type": "execute_result"
    }
   ],
   "source": [
    "origin_rating = df.groupby(\"BeanOrigins\").Rating.mean()\n",
    "ten_best = origin_rating.nlargest(10)\n",
    "ten_best"
   ]
  },
  {
   "cell_type": "code",
   "execution_count": 19,
   "metadata": {},
   "outputs": [
    {
     "data": {
      "text/plain": [
       "CompanyLocation\n",
       "Chile          3.750000\n",
       "Amsterdam      3.500000\n",
       "Netherlands    3.500000\n",
       "Philippines    3.500000\n",
       "Iceland        3.416667\n",
       "Vietnam        3.409091\n",
       "Brazil         3.397059\n",
       "Poland         3.375000\n",
       "Australia      3.357143\n",
       "Guatemala      3.350000\n",
       "Name: Rating, dtype: float64"
      ]
     },
     "execution_count": 19,
     "metadata": {},
     "output_type": "execute_result"
    }
   ],
   "source": [
    "location_rating = df.groupby(\"CompanyLocation\").Rating.mean()\n",
    "ten_best = location_rating.nlargest(10)\n",
    "ten_best"
   ]
  }
 ],
 "metadata": {
  "kernelspec": {
   "display_name": "Python 3 (ipykernel)",
   "language": "python",
   "name": "python3"
  },
  "language_info": {
   "codemirror_mode": {
    "name": "ipython",
    "version": 3
   },
   "file_extension": ".py",
   "mimetype": "text/x-python",
   "name": "python",
   "nbconvert_exporter": "python",
   "pygments_lexer": "ipython3",
   "version": "3.11.5"
  }
 },
 "nbformat": 4,
 "nbformat_minor": 2
}
